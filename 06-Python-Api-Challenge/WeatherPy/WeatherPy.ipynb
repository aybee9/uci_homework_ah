{
 "cells": [
  {
   "cell_type": "code",
   "execution_count": 2,
   "metadata": {},
   "outputs": [],
   "source": [
    "import pandas as pd\n",
    "import matplotlib.pyplot as plt\n",
    "import numpy as np\n",
    "import requests\n",
    "import time\n",
    "from scipy.stats import linregress\n",
    "\n",
    "from config import api_key\n",
    "from citipy import citipy"
   ]
  },
  {
   "cell_type": "code",
   "execution_count": 3,
   "metadata": {},
   "outputs": [
    {
     "data": {
      "text/plain": [
       "'bb44699706b5367a2418b048d77e2ff5'"
      ]
     },
     "execution_count": 3,
     "metadata": {},
     "output_type": "execute_result"
    }
   ],
   "source": [
    "api_key"
   ]
  },
  {
   "cell_type": "markdown",
   "metadata": {},
   "source": [
    "# Generate coordinates and retrieve cities"
   ]
  },
  {
   "cell_type": "code",
   "execution_count": 4,
   "metadata": {},
   "outputs": [
    {
     "name": "stdout",
     "output_type": "stream",
     "text": [
      "621\n"
     ]
    }
   ],
   "source": [
    "lat_lngs = []\n",
    "cities = []\n",
    "\n",
    "lats = np.random.uniform(low=-90, high=90, size=1500)\n",
    "lngs = np.random.uniform(low=-180, high=180, size=1500)\n",
    "lat_lngs = zip(lats, lngs)\n",
    "\n",
    "# retrieve cities base on coordinates \n",
    "for lat_lng in lat_lngs:\n",
    "    city = citipy.nearest_city(lat_lng[0], lat_lng[1]).city_name\n",
    "    \n",
    "    if city not in cities:\n",
    "        cities.append(city)\n",
    "\n",
    "print(len(cities))"
   ]
  },
  {
   "cell_type": "code",
   "execution_count": 5,
   "metadata": {},
   "outputs": [
    {
     "data": {
      "text/plain": [
       "['port alfred', 'port augusta', 'tevriz', 'amderma', 'norman wells']"
      ]
     },
     "execution_count": 5,
     "metadata": {},
     "output_type": "execute_result"
    }
   ],
   "source": [
    "cities[0:5]"
   ]
  },
  {
   "cell_type": "markdown",
   "metadata": {},
   "source": [
    "# API calls"
   ]
  },
  {
   "cell_type": "code",
   "execution_count": 6,
   "metadata": {},
   "outputs": [],
   "source": [
    "base_url = \"http://api.openweathermap.org/data/2.5/weather?&units=Imperial\"\n",
    "query_url = base_url + \"&appid=\" + api_key + \"&q=\""
   ]
  },
  {
   "cell_type": "code",
   "execution_count": 7,
   "metadata": {},
   "outputs": [
    {
     "name": "stdout",
     "output_type": "stream",
     "text": [
      "Processing data for city number 1: port alfred\n",
      "Processing data for city number 2: port augusta\n",
      "Processing data for city number 3: tevriz\n",
      "Processing data for city number 4: amderma\n",
      "No data found for amderma\n",
      "Processing data for city number 5: norman wells\n",
      "Processing data for city number 6: chuy\n",
      "Processing data for city number 7: qaqortoq\n",
      "Processing data for city number 8: saskylakh\n",
      "Processing data for city number 9: berlevag\n",
      "Processing data for city number 10: taolanaro\n",
      "No data found for taolanaro\n",
      "Processing data for city number 11: sao joao da barra\n",
      "Processing data for city number 12: khatanga\n",
      "Processing data for city number 13: teluk intan\n",
      "Processing data for city number 14: rawson\n",
      "Processing data for city number 15: butaritari\n",
      "Processing data for city number 16: iqaluit\n",
      "Processing data for city number 17: illoqqortoormiut\n",
      "No data found for illoqqortoormiut\n",
      "Processing data for city number 18: atuona\n",
      "Processing data for city number 19: bredasdorp\n",
      "Processing data for city number 20: saint-joseph\n",
      "Processing data for city number 21: barrow\n",
      "Processing data for city number 22: provideniya\n",
      "Processing data for city number 23: belushya guba\n",
      "No data found for belushya guba\n",
      "Processing data for city number 24: rikitea\n",
      "Processing data for city number 25: terrace bay\n",
      "Processing data for city number 26: mumford\n",
      "Processing data for city number 27: yuzhne\n",
      "Processing data for city number 28: saint-philippe\n",
      "Processing data for city number 29: trelew\n",
      "Processing data for city number 30: yanchukan\n",
      "No data found for yanchukan\n",
      "Processing data for city number 31: laguna\n",
      "Processing data for city number 32: karratha\n",
      "Processing data for city number 33: vaitupu\n",
      "No data found for vaitupu\n",
      "Processing data for city number 34: cabo san lucas\n",
      "Processing data for city number 35: dingle\n",
      "Processing data for city number 36: thompson\n",
      "Processing data for city number 37: yellowknife\n",
      "Processing data for city number 38: nova russas\n",
      "Processing data for city number 39: yelan\n",
      "Processing data for city number 40: tihuatlan\n",
      "Processing data for city number 41: northam\n",
      "Processing data for city number 42: tiksi\n",
      "Processing data for city number 43: sitka\n",
      "Processing data for city number 44: surgut\n",
      "Processing data for city number 45: hambantota\n",
      "Processing data for city number 46: kismayo\n",
      "Processing data for city number 47: cape town\n",
      "Processing data for city number 48: arraial do cabo\n",
      "Processing data for city number 49: nanortalik\n",
      "Processing data for city number 50: santa quiteria\n",
      "Processing data for city number 51: bluff\n",
      "Processing data for city number 52: bargal\n",
      "No data found for bargal\n",
      "Processing data for city number 53: luanda\n",
      "Processing data for city number 54: busselton\n",
      "Processing data for city number 55: kahului\n",
      "Processing data for city number 56: bam\n",
      "Processing data for city number 57: hithadhoo\n",
      "Processing data for city number 58: torbay\n",
      "Processing data for city number 59: kapaa\n",
      "Processing data for city number 60: mataura\n",
      "Processing data for city number 61: mogochin\n",
      "No data found for mogochin\n",
      "Processing data for city number 62: redmond\n",
      "Processing data for city number 63: palasa\n",
      "Processing data for city number 64: sarakhs\n",
      "Processing data for city number 65: victoria\n",
      "Processing data for city number 66: hobart\n",
      "Processing data for city number 67: codrington\n",
      "Processing data for city number 68: hilo\n",
      "Processing data for city number 69: sechura\n",
      "Processing data for city number 70: iracoubo\n",
      "Processing data for city number 71: tumannyy\n",
      "No data found for tumannyy\n",
      "Processing data for city number 72: barentsburg\n",
      "No data found for barentsburg\n",
      "Processing data for city number 73: ahipara\n",
      "Processing data for city number 74: qaanaaq\n",
      "Processing data for city number 75: lompoc\n",
      "Processing data for city number 76: ngukurr\n",
      "No data found for ngukurr\n",
      "Processing data for city number 77: mahebourg\n",
      "Processing data for city number 78: kaeo\n",
      "Processing data for city number 79: byron bay\n",
      "Processing data for city number 80: nome\n",
      "Processing data for city number 81: kodiak\n",
      "Processing data for city number 82: shaping\n",
      "Processing data for city number 83: jamestown\n",
      "Processing data for city number 84: takaka\n",
      "Processing data for city number 85: attawapiskat\n",
      "No data found for attawapiskat\n",
      "Processing data for city number 86: saleaula\n",
      "No data found for saleaula\n",
      "Processing data for city number 87: vaini\n",
      "Processing data for city number 88: maldonado\n",
      "Processing data for city number 89: louisbourg\n",
      "No data found for louisbourg\n",
      "Processing data for city number 90: dikson\n",
      "Processing data for city number 91: cherskiy\n",
      "Processing data for city number 92: vila velha\n",
      "Processing data for city number 93: manacapuru\n",
      "Processing data for city number 94: miri\n",
      "Processing data for city number 95: ushuaia\n",
      "Processing data for city number 96: kununurra\n",
      "Processing data for city number 97: abha\n",
      "Processing data for city number 98: new norfolk\n",
      "Processing data for city number 99: port hawkesbury\n",
      "Processing data for city number 100: tsihombe\n",
      "No data found for tsihombe\n",
      "Processing data for city number 101: warqla\n",
      "No data found for warqla\n",
      "Processing data for city number 102: camocim\n",
      "Processing data for city number 103: dalaba\n",
      "Processing data for city number 104: arlit\n",
      "Processing data for city number 105: portgordon\n",
      "Processing data for city number 106: east london\n",
      "Processing data for city number 107: naze\n",
      "Processing data for city number 108: sao felix do xingu\n",
      "Processing data for city number 109: terralba\n",
      "Processing data for city number 110: kathmandu\n",
      "Processing data for city number 111: paithan\n",
      "Processing data for city number 112: punta arenas\n",
      "Processing data for city number 113: samusu\n",
      "No data found for samusu\n",
      "Processing data for city number 114: chokurdakh\n",
      "Processing data for city number 115: gillette\n",
      "Processing data for city number 116: ancud\n",
      "Processing data for city number 117: kegayli\n",
      "No data found for kegayli\n",
      "Processing data for city number 118: yulara\n",
      "Processing data for city number 119: bonthe\n",
      "Processing data for city number 120: trat\n",
      "Processing data for city number 121: hovd\n",
      "Processing data for city number 122: kaohsiung\n",
      "Processing data for city number 123: nadym\n",
      "Processing data for city number 124: nuuk\n",
      "Processing data for city number 125: dubbo\n",
      "Processing data for city number 126: zachary\n",
      "Processing data for city number 127: eirunepe\n",
      "Processing data for city number 128: salmas\n",
      "Processing data for city number 129: capitan bado\n",
      "Processing data for city number 130: san cristobal\n",
      "Processing data for city number 131: tasiilaq\n",
      "Processing data for city number 132: rio grande\n",
      "Processing data for city number 133: kalabagh\n",
      "Processing data for city number 134: mar del plata\n",
      "Processing data for city number 135: delta\n",
      "Processing data for city number 136: albany\n",
      "Processing data for city number 137: salinas\n",
      "Processing data for city number 138: puerto ayora\n",
      "Processing data for city number 139: port elizabeth\n",
      "Processing data for city number 140: mglin\n",
      "Processing data for city number 141: prince rupert\n",
      "Processing data for city number 142: rosarito\n",
      "Processing data for city number 143: port blair\n",
      "Processing data for city number 144: georgetown\n",
      "Processing data for city number 145: devils lake\n",
      "Processing data for city number 146: namibe\n",
      "Processing data for city number 147: ribeira grande\n",
      "Processing data for city number 148: oranjestad\n",
      "Processing data for city number 149: viransehir\n",
      "Processing data for city number 150: umzimvubu\n",
      "No data found for umzimvubu\n",
      "Processing data for city number 151: itarema\n",
      "Processing data for city number 152: majdanpek\n",
      "Processing data for city number 153: caldwell\n",
      "Processing data for city number 154: kysyl-syr\n",
      "Processing data for city number 155: gao\n",
      "Processing data for city number 156: adrar\n",
      "Processing data for city number 157: lolua\n",
      "No data found for lolua\n",
      "Processing data for city number 158: kampong thum\n",
      "Processing data for city number 159: hermanus\n",
      "Processing data for city number 160: jutai\n",
      "Processing data for city number 161: mullaitivu\n",
      "No data found for mullaitivu\n",
      "Processing data for city number 162: koutsouras\n",
      "Processing data for city number 163: kosa\n",
      "Processing data for city number 164: rungata\n",
      "No data found for rungata\n",
      "Processing data for city number 165: san pedro\n",
      "Processing data for city number 166: huarmey\n",
      "Processing data for city number 167: lagoa\n",
      "Processing data for city number 168: sisimiut\n"
     ]
    },
    {
     "name": "stdout",
     "output_type": "stream",
     "text": [
      "Processing data for city number 169: flinders\n",
      "Processing data for city number 170: okha\n",
      "Processing data for city number 171: ixtapa\n",
      "Processing data for city number 172: avarua\n",
      "Processing data for city number 173: clyde river\n",
      "Processing data for city number 174: west chester\n",
      "Processing data for city number 175: esperance\n",
      "Processing data for city number 176: oriximina\n",
      "Processing data for city number 177: beringovskiy\n",
      "Processing data for city number 178: lakes entrance\n",
      "Processing data for city number 179: cidreira\n",
      "Processing data for city number 180: halifax\n",
      "Processing data for city number 181: dunedin\n",
      "Processing data for city number 182: alexandria\n",
      "Processing data for city number 183: wattegama\n",
      "Processing data for city number 184: comodoro rivadavia\n",
      "Processing data for city number 185: nantucket\n",
      "Processing data for city number 186: zhanatas\n",
      "No data found for zhanatas\n",
      "Processing data for city number 187: marsabit\n",
      "Processing data for city number 188: mae tha\n",
      "Processing data for city number 189: nikolskoye\n",
      "Processing data for city number 190: solnechnyy\n",
      "Processing data for city number 191: launceston\n",
      "Processing data for city number 192: gornopravdinsk\n",
      "Processing data for city number 193: hasaki\n",
      "Processing data for city number 194: ponta do sol\n",
      "Processing data for city number 195: pangody\n",
      "Processing data for city number 196: los llanos de aridane\n",
      "Processing data for city number 197: paamiut\n",
      "Processing data for city number 198: carutapera\n",
      "Processing data for city number 199: athabasca\n",
      "Processing data for city number 200: bengkulu\n",
      "Processing data for city number 201: partizanske\n",
      "Processing data for city number 202: jalu\n",
      "Processing data for city number 203: encantado\n",
      "Processing data for city number 204: port hedland\n",
      "Processing data for city number 205: cockburn harbour\n",
      "No data found for cockburn harbour\n",
      "Processing data for city number 206: ondorhaan\n",
      "No data found for ondorhaan\n",
      "Processing data for city number 207: banda aceh\n",
      "Processing data for city number 208: bambous virieux\n",
      "Processing data for city number 209: myaundzha\n",
      "Processing data for city number 210: nizhneyansk\n",
      "No data found for nizhneyansk\n",
      "Processing data for city number 211: brae\n",
      "Processing data for city number 212: vila franca do campo\n",
      "Processing data for city number 213: acarau\n",
      "Processing data for city number 214: omutninsk\n",
      "Processing data for city number 215: udachnyy\n",
      "Processing data for city number 216: vao\n",
      "Processing data for city number 217: navalmoral de la mata\n",
      "Processing data for city number 218: kavieng\n",
      "Processing data for city number 219: warri\n",
      "Processing data for city number 220: tucuma\n",
      "Processing data for city number 221: narsaq\n",
      "Processing data for city number 222: lamu\n",
      "Processing data for city number 223: bubaque\n",
      "Processing data for city number 224: taveta\n",
      "Processing data for city number 225: tornio\n",
      "Processing data for city number 226: esso\n",
      "Processing data for city number 227: novyy urengoy\n",
      "Processing data for city number 228: korla\n",
      "Processing data for city number 229: tuatapere\n",
      "Processing data for city number 230: hay river\n",
      "Processing data for city number 231: aljezur\n",
      "Processing data for city number 232: ulaangom\n",
      "Processing data for city number 233: wilkie\n",
      "Processing data for city number 234: kruisfontein\n",
      "Processing data for city number 235: kawana waters\n",
      "No data found for kawana waters\n",
      "Processing data for city number 236: charagua\n",
      "Processing data for city number 237: naryan-mar\n",
      "Processing data for city number 238: coihaique\n",
      "Processing data for city number 239: fatehabad\n",
      "Processing data for city number 240: sao filipe\n",
      "Processing data for city number 241: concordia\n",
      "Processing data for city number 242: dolbeau\n",
      "No data found for dolbeau\n",
      "Processing data for city number 243: mareeba\n",
      "Processing data for city number 244: mayumba\n",
      "Processing data for city number 245: muravlenko\n",
      "Processing data for city number 246: ostrovnoy\n",
      "Processing data for city number 247: cap malheureux\n",
      "Processing data for city number 248: karpathos\n",
      "Processing data for city number 249: joshimath\n",
      "Processing data for city number 250: auce\n",
      "Processing data for city number 251: rabo de peixe\n",
      "Processing data for city number 252: husavik\n",
      "Processing data for city number 253: ostersund\n",
      "Processing data for city number 254: bilma\n",
      "Processing data for city number 255: tuktoyaktuk\n",
      "Processing data for city number 256: souillac\n",
      "Processing data for city number 257: uvinza\n",
      "Processing data for city number 258: merauke\n",
      "Processing data for city number 259: sentyabrskiy\n",
      "No data found for sentyabrskiy\n",
      "Processing data for city number 260: san ramon\n",
      "Processing data for city number 261: port lincoln\n",
      "Processing data for city number 262: emilio carranza\n",
      "Processing data for city number 263: del rio\n",
      "Processing data for city number 264: vina del mar\n",
      "Processing data for city number 265: havre-saint-pierre\n",
      "Processing data for city number 266: kamenskoye\n",
      "No data found for kamenskoye\n",
      "Processing data for city number 267: penzance\n",
      "Processing data for city number 268: leningradskiy\n",
      "Processing data for city number 269: aripuana\n",
      "Processing data for city number 270: saint anthony\n",
      "Processing data for city number 271: wulanhaote\n",
      "No data found for wulanhaote\n",
      "Processing data for city number 272: zyryanka\n",
      "Processing data for city number 273: beaverlodge\n",
      "Processing data for city number 274: axim\n",
      "Processing data for city number 275: fairbanks\n",
      "Processing data for city number 276: kenai\n",
      "Processing data for city number 277: salalah\n",
      "Processing data for city number 278: grand river south east\n",
      "No data found for grand river south east\n",
      "Processing data for city number 279: carnarvon\n",
      "Processing data for city number 280: soe\n",
      "Processing data for city number 281: antalaha\n",
      "Processing data for city number 282: saint george\n",
      "Processing data for city number 283: vestmanna\n",
      "Processing data for city number 284: westport\n",
      "Processing data for city number 285: strezhevoy\n",
      "Processing data for city number 286: praia da vitoria\n",
      "Processing data for city number 287: kabare\n",
      "Processing data for city number 288: mount gambier\n",
      "Processing data for city number 289: belyy yar\n",
      "Processing data for city number 290: teguldet\n",
      "Processing data for city number 291: kalmunai\n",
      "Processing data for city number 292: quatre cocos\n",
      "Processing data for city number 293: kupang\n",
      "Processing data for city number 294: upernavik\n",
      "Processing data for city number 295: ust-kamchatsk\n",
      "No data found for ust-kamchatsk\n",
      "Processing data for city number 296: yinchuan\n",
      "Processing data for city number 297: vaitape\n",
      "Processing data for city number 298: castro\n",
      "Processing data for city number 299: yarmouth\n",
      "Processing data for city number 300: olga\n",
      "Processing data for city number 301: clonakilty\n",
      "Processing data for city number 302: astana\n",
      "Processing data for city number 303: yeniseysk\n",
      "Processing data for city number 304: nabire\n",
      "Processing data for city number 305: george town\n",
      "Processing data for city number 306: ilulissat\n",
      "Processing data for city number 307: bethel\n",
      "Processing data for city number 308: garden city\n",
      "Processing data for city number 309: ha tinh\n",
      "Processing data for city number 310: ipira\n",
      "Processing data for city number 311: hamilton\n",
      "Processing data for city number 312: vila\n",
      "Processing data for city number 313: campbeltown\n",
      "Processing data for city number 314: kloulklubed\n",
      "Processing data for city number 315: barillas\n",
      "Processing data for city number 316: tymovskoye\n",
      "Processing data for city number 317: vezirkopru\n",
      "Processing data for city number 318: roald\n",
      "Processing data for city number 319: paignton\n",
      "Processing data for city number 320: faanui\n",
      "Processing data for city number 321: palabuhanratu\n",
      "No data found for palabuhanratu\n",
      "Processing data for city number 322: gurskoye\n",
      "No data found for gurskoye\n",
      "Processing data for city number 323: cayenne\n",
      "Processing data for city number 324: labuhan\n",
      "Processing data for city number 325: grindavik\n",
      "Processing data for city number 326: severo-kurilsk\n",
      "Processing data for city number 327: el alto\n",
      "Processing data for city number 328: namatanai\n",
      "Processing data for city number 329: russell\n",
      "Processing data for city number 330: tezu\n",
      "Processing data for city number 331: pevek\n",
      "Processing data for city number 332: guerrero negro\n",
      "Processing data for city number 333: harper\n",
      "Processing data for city number 334: blagoveshchenka\n"
     ]
    },
    {
     "name": "stdout",
     "output_type": "stream",
     "text": [
      "Processing data for city number 335: jabinyanah\n",
      "Processing data for city number 336: atambua\n",
      "Processing data for city number 337: college\n",
      "Processing data for city number 338: vostok\n",
      "Processing data for city number 339: finschhafen\n",
      "Processing data for city number 340: medveda\n",
      "Processing data for city number 341: pangai\n",
      "Processing data for city number 342: siocon\n",
      "Processing data for city number 343: loreto\n",
      "Processing data for city number 344: mrirt\n",
      "No data found for mrirt\n",
      "Processing data for city number 345: luderitz\n",
      "Processing data for city number 346: eureka\n",
      "Processing data for city number 347: sorong\n",
      "Processing data for city number 348: grand forks\n",
      "Processing data for city number 349: wyndham\n",
      "Processing data for city number 350: devonport\n",
      "Processing data for city number 351: obihiro\n",
      "Processing data for city number 352: airai\n",
      "Processing data for city number 353: puerto del rosario\n",
      "Processing data for city number 354: jerusalem\n",
      "Processing data for city number 355: hunza\n",
      "No data found for hunza\n",
      "Processing data for city number 356: panjab\n",
      "Processing data for city number 357: rocha\n",
      "Processing data for city number 358: parabel\n",
      "Processing data for city number 359: haines junction\n",
      "Processing data for city number 360: avera\n",
      "Processing data for city number 361: dzhusaly\n",
      "No data found for dzhusaly\n",
      "Processing data for city number 362: nelson bay\n",
      "Processing data for city number 363: kushima\n",
      "Processing data for city number 364: betsiamites\n",
      "Processing data for city number 365: mangualde\n",
      "Processing data for city number 366: illapel\n",
      "Processing data for city number 367: agua dulce\n",
      "Processing data for city number 368: palmer\n",
      "Processing data for city number 369: san policarpo\n",
      "Processing data for city number 370: geraldton\n",
      "Processing data for city number 371: celestun\n",
      "Processing data for city number 372: taksimo\n",
      "Processing data for city number 373: bom jesus\n",
      "Processing data for city number 374: bur gabo\n",
      "No data found for bur gabo\n",
      "Processing data for city number 375: bandrele\n",
      "Processing data for city number 376: pishin\n",
      "Processing data for city number 377: otane\n",
      "Processing data for city number 378: verkh-usugli\n",
      "Processing data for city number 379: ginir\n",
      "Processing data for city number 380: mataram\n",
      "Processing data for city number 381: khonuu\n",
      "No data found for khonuu\n",
      "Processing data for city number 382: bukama\n",
      "Processing data for city number 383: seoul\n",
      "Processing data for city number 384: sobolevo\n",
      "Processing data for city number 385: fortuna\n",
      "Processing data for city number 386: simao\n",
      "Processing data for city number 387: margate\n",
      "Processing data for city number 388: bama\n",
      "Processing data for city number 389: longyearbyen\n",
      "Processing data for city number 390: urbano santos\n",
      "Processing data for city number 391: erzin\n",
      "Processing data for city number 392: esperantina\n",
      "Processing data for city number 393: dharampuri\n",
      "Processing data for city number 394: isabela\n",
      "Processing data for city number 395: caravelas\n",
      "Processing data for city number 396: conakry\n",
      "Processing data for city number 397: talnakh\n",
      "Processing data for city number 398: rio gallegos\n",
      "Processing data for city number 399: uwayl\n",
      "No data found for uwayl\n",
      "Processing data for city number 400: bonoua\n",
      "Processing data for city number 401: komsomolskiy\n",
      "Processing data for city number 402: demirci\n",
      "Processing data for city number 403: sistranda\n",
      "Processing data for city number 404: risch\n",
      "Processing data for city number 405: valdosta\n",
      "Processing data for city number 406: jackson\n",
      "Processing data for city number 407: caborca\n",
      "Processing data for city number 408: menongue\n",
      "Processing data for city number 409: kalang\n",
      "Processing data for city number 410: port hardy\n",
      "Processing data for city number 411: muros\n",
      "Processing data for city number 412: saldanha\n",
      "Processing data for city number 413: gloversville\n",
      "Processing data for city number 414: olafsvik\n",
      "Processing data for city number 415: puerto baquerizo moreno\n",
      "Processing data for city number 416: lovozero\n",
      "Processing data for city number 417: zhaotong\n",
      "Processing data for city number 418: pacific grove\n",
      "Processing data for city number 419: kosh-agach\n",
      "Processing data for city number 420: srednekolymsk\n",
      "Processing data for city number 421: paka\n",
      "Processing data for city number 422: touros\n",
      "Processing data for city number 423: artyk\n",
      "No data found for artyk\n",
      "Processing data for city number 424: onega\n",
      "Processing data for city number 425: sibolga\n",
      "Processing data for city number 426: sosnovo-ozerskoye\n",
      "Processing data for city number 427: tazovskiy\n",
      "Processing data for city number 428: orlik\n",
      "Processing data for city number 429: esmeraldas\n",
      "Processing data for city number 430: san ignacio\n",
      "Processing data for city number 431: birjand\n",
      "Processing data for city number 432: inirida\n",
      "Processing data for city number 433: bathsheba\n",
      "Processing data for city number 434: saint-francois\n",
      "Processing data for city number 435: abu kamal\n",
      "Processing data for city number 436: xichang\n",
      "Processing data for city number 437: wuhu\n",
      "Processing data for city number 438: roma\n",
      "Processing data for city number 439: nyrob\n",
      "Processing data for city number 440: trairi\n",
      "Processing data for city number 441: vibo valentia\n",
      "Processing data for city number 442: padang\n",
      "Processing data for city number 443: sterling\n",
      "Processing data for city number 444: alyangula\n",
      "Processing data for city number 445: yanan\n",
      "No data found for yanan\n",
      "Processing data for city number 446: tanshui\n",
      "No data found for tanshui\n",
      "Processing data for city number 447: klerksdorp\n",
      "Processing data for city number 448: sao joao do piaui\n",
      "Processing data for city number 449: buchanan\n",
      "Processing data for city number 450: katsuura\n",
      "Processing data for city number 451: lorengau\n",
      "Processing data for city number 452: kultuk\n",
      "Processing data for city number 453: kytmanovo\n",
      "Processing data for city number 454: skopelos\n",
      "Processing data for city number 455: qasigiannguit\n",
      "Processing data for city number 456: kikwit\n",
      "Processing data for city number 457: angra\n",
      "No data found for angra\n",
      "Processing data for city number 458: calama\n",
      "Processing data for city number 459: gunjur\n",
      "Processing data for city number 460: filingue\n",
      "Processing data for city number 461: kaitangata\n",
      "Processing data for city number 462: cabinda\n",
      "Processing data for city number 463: gunnedah\n",
      "Processing data for city number 464: garowe\n",
      "Processing data for city number 465: half moon bay\n",
      "Processing data for city number 466: bermeo\n",
      "Processing data for city number 467: chumikan\n",
      "Processing data for city number 468: bilibino\n",
      "Processing data for city number 469: laem sing\n",
      "Processing data for city number 470: bud\n",
      "Processing data for city number 471: denpasar\n",
      "Processing data for city number 472: assiniboia\n",
      "Processing data for city number 473: zunheboto\n",
      "Processing data for city number 474: uk\n",
      "No data found for uk\n",
      "Processing data for city number 475: mergui\n",
      "No data found for mergui\n",
      "Processing data for city number 476: constitucion\n",
      "Processing data for city number 477: halalo\n",
      "No data found for halalo\n",
      "Processing data for city number 478: kargasok\n",
      "Processing data for city number 479: songjianghe\n",
      "Processing data for city number 480: baie-comeau\n",
      "Processing data for city number 481: guaitarilla\n",
      "Processing data for city number 482: ukiah\n",
      "Processing data for city number 483: manta\n",
      "Processing data for city number 484: aklavik\n",
      "Processing data for city number 485: coihueco\n",
      "Processing data for city number 486: aranos\n",
      "Processing data for city number 487: makakilo city\n",
      "Processing data for city number 488: mana\n",
      "Processing data for city number 489: dzhebariki-khaya\n",
      "Processing data for city number 490: ayan\n",
      "Processing data for city number 491: athens\n",
      "Processing data for city number 492: motygino\n",
      "Processing data for city number 493: chany\n",
      "Processing data for city number 494: urengoy\n",
      "Processing data for city number 495: belaya gora\n",
      "Processing data for city number 496: mantua\n",
      "Processing data for city number 497: nago\n",
      "Processing data for city number 498: zolotinka\n",
      "No data found for zolotinka\n",
      "Processing data for city number 499: lewiston\n",
      "Processing data for city number 500: iznoski\n",
      "Processing data for city number 501: hirara\n",
      "Processing data for city number 502: biak\n",
      "Processing data for city number 503: gulshat\n",
      "No data found for gulshat\n",
      "Processing data for city number 504: coari\n",
      "Processing data for city number 505: usinsk\n"
     ]
    },
    {
     "name": "stdout",
     "output_type": "stream",
     "text": [
      "Processing data for city number 506: anlu\n",
      "Processing data for city number 507: marsa matruh\n",
      "Processing data for city number 508: flin flon\n",
      "Processing data for city number 509: sungai padi\n",
      "Processing data for city number 510: paradwip\n",
      "No data found for paradwip\n",
      "Processing data for city number 511: tiznit\n",
      "Processing data for city number 512: chabahar\n",
      "Processing data for city number 513: kuala terengganu\n",
      "Processing data for city number 514: lahad datu\n",
      "Processing data for city number 515: hualmay\n",
      "Processing data for city number 516: mopipi\n",
      "Processing data for city number 517: tabiauea\n",
      "No data found for tabiauea\n",
      "Processing data for city number 518: alta\n",
      "Processing data for city number 519: san antonio del norte\n",
      "Processing data for city number 520: mufumbwe\n",
      "Processing data for city number 521: santa cruz\n",
      "Processing data for city number 522: taltal\n",
      "Processing data for city number 523: verkhnyaya toyma\n",
      "Processing data for city number 524: alofi\n",
      "Processing data for city number 525: kuche\n",
      "No data found for kuche\n",
      "Processing data for city number 526: buraydah\n",
      "Processing data for city number 527: sorland\n",
      "Processing data for city number 528: sioux lookout\n",
      "Processing data for city number 529: anadyr\n",
      "Processing data for city number 530: havoysund\n",
      "Processing data for city number 531: almenevo\n",
      "No data found for almenevo\n",
      "Processing data for city number 532: lebu\n",
      "Processing data for city number 533: samagaltay\n",
      "Processing data for city number 534: fort saint james\n",
      "Processing data for city number 535: tiarei\n",
      "Processing data for city number 536: kropotkin\n",
      "Processing data for city number 537: eydhafushi\n",
      "Processing data for city number 538: palmerston\n",
      "Processing data for city number 539: mbengwi\n",
      "Processing data for city number 540: port-de-paix\n",
      "No data found for port-de-paix\n",
      "Processing data for city number 541: along\n",
      "Processing data for city number 542: karachi\n",
      "Processing data for city number 543: pamekasan\n",
      "Processing data for city number 544: sungurlu\n",
      "Processing data for city number 545: bontang\n",
      "Processing data for city number 546: sungaipenuh\n",
      "Processing data for city number 547: shchuchye\n",
      "No data found for shchuchye\n",
      "Processing data for city number 548: moengo\n",
      "Processing data for city number 549: svetlaya\n",
      "Processing data for city number 550: show low\n",
      "Processing data for city number 551: berbera\n",
      "Processing data for city number 552: gallup\n",
      "Processing data for city number 553: salisbury\n",
      "Processing data for city number 554: hima\n",
      "Processing data for city number 555: shingu\n",
      "Processing data for city number 556: lugovoy\n",
      "Processing data for city number 557: camargo\n",
      "Processing data for city number 558: san patricio\n",
      "Processing data for city number 559: kyrylivka\n",
      "Processing data for city number 560: asau\n",
      "Processing data for city number 561: bhadasar\n",
      "Processing data for city number 562: saint-pierre\n",
      "Processing data for city number 563: edgewater\n",
      "Processing data for city number 564: sonari\n",
      "Processing data for city number 565: duz\n",
      "No data found for duz\n",
      "Processing data for city number 566: innisfail\n",
      "Processing data for city number 567: ketchikan\n",
      "Processing data for city number 568: vardo\n",
      "Processing data for city number 569: beruwala\n",
      "Processing data for city number 570: zhigansk\n",
      "Processing data for city number 571: miranorte\n",
      "No data found for miranorte\n",
      "Processing data for city number 572: chagda\n",
      "No data found for chagda\n",
      "Processing data for city number 573: redlands\n",
      "Processing data for city number 574: udimskiy\n",
      "Processing data for city number 575: jimo\n",
      "Processing data for city number 576: yatou\n",
      "Processing data for city number 577: dakar\n",
      "Processing data for city number 578: pitimbu\n",
      "Processing data for city number 579: isangel\n",
      "Processing data for city number 580: bosaso\n",
      "Processing data for city number 581: orange\n",
      "Processing data for city number 582: okhotsk\n",
      "Processing data for city number 583: phrai bung\n",
      "No data found for phrai bung\n",
      "Processing data for city number 584: milingimbi\n",
      "No data found for milingimbi\n",
      "Processing data for city number 585: ughelli\n",
      "Processing data for city number 586: viedma\n",
      "Processing data for city number 587: musoma\n",
      "Processing data for city number 588: jacareacanga\n",
      "Processing data for city number 589: basoko\n",
      "Processing data for city number 590: lixourion\n",
      "Processing data for city number 591: riga\n",
      "Processing data for city number 592: takoradi\n",
      "Processing data for city number 593: yar-sale\n",
      "Processing data for city number 594: taoudenni\n",
      "Processing data for city number 595: arman\n",
      "Processing data for city number 596: lata\n",
      "Processing data for city number 597: katherine\n",
      "Processing data for city number 598: shihezi\n",
      "Processing data for city number 599: vanimo\n",
      "Processing data for city number 600: ngunguru\n",
      "Processing data for city number 601: jiuquan\n",
      "Processing data for city number 602: maues\n",
      "Processing data for city number 603: belogorsk\n",
      "Processing data for city number 604: augusto correa\n",
      "Processing data for city number 605: goderich\n",
      "Processing data for city number 606: la paz\n",
      "Processing data for city number 607: privodino\n",
      "Processing data for city number 608: port-cartier\n",
      "Processing data for city number 609: krasnovishersk\n",
      "Processing data for city number 610: broome\n",
      "Processing data for city number 611: barra patuca\n",
      "Processing data for city number 612: sibu\n",
      "Processing data for city number 613: tambopata\n",
      "Processing data for city number 614: mys shmidta\n",
      "No data found for mys shmidta\n",
      "Processing data for city number 615: sunndalsora\n",
      "Processing data for city number 616: bowen\n",
      "Processing data for city number 617: bokspits\n",
      "No data found for bokspits\n",
      "Processing data for city number 618: agucadoura\n",
      "Processing data for city number 619: tarakan\n",
      "Processing data for city number 620: osmena\n",
      "Processing data for city number 621: kenora\n",
      "Process complete\n"
     ]
    }
   ],
   "source": [
    "city_count = 1 \n",
    "city_data = [] # data for our dataframe\n",
    "\n",
    "for city in cities:\n",
    "    \n",
    "    city_res = requests.get(query_url + city).json()\n",
    "    \n",
    "    print(f'Processing data for city number {city_count}:', city)\n",
    "    \n",
    "    try:\n",
    "        lat = city_res[\"coord\"][\"lat\"]\n",
    "        lng = city_res[\"coord\"][\"lon\"]\n",
    "        max_temp = city_res[\"main\"][\"temp_max\"]\n",
    "        humidity = city_res[\"main\"][\"humidity\"]\n",
    "        clouds = city_res[\"clouds\"][\"all\"]\n",
    "        wind = city_res[\"wind\"][\"speed\"]\n",
    "        country = city_res[\"sys\"][\"country\"]\n",
    "        date = city_res[\"dt\"]\n",
    "        city_count +=1\n",
    "        \n",
    "        city_data.append({\"City\": city, \n",
    "                          \"Lat\": lat, \n",
    "                          \"Lng\": lng, \n",
    "                          \"Max Temp\": max_temp,\n",
    "                          \"Humidity\": humidity,\n",
    "                          \"Cloudiness\": clouds,\n",
    "                          \"Wind Speed\": wind,\n",
    "                          \"Country\": country,\n",
    "                          \"Date\": date})\n",
    "        \n",
    "    except:\n",
    "        print(f'No data found for {city}')\n",
    "        city_count +=1\n",
    "        pass\n",
    "\n",
    "print('Process complete')"
   ]
  },
  {
   "cell_type": "markdown",
   "metadata": {},
   "source": [
    "#### Pandas Data Frame"
   ]
  },
  {
   "cell_type": "code",
   "execution_count": 8,
   "metadata": {},
   "outputs": [
    {
     "data": {
      "text/html": [
       "<div>\n",
       "<style scoped>\n",
       "    .dataframe tbody tr th:only-of-type {\n",
       "        vertical-align: middle;\n",
       "    }\n",
       "\n",
       "    .dataframe tbody tr th {\n",
       "        vertical-align: top;\n",
       "    }\n",
       "\n",
       "    .dataframe thead th {\n",
       "        text-align: right;\n",
       "    }\n",
       "</style>\n",
       "<table border=\"1\" class=\"dataframe\">\n",
       "  <thead>\n",
       "    <tr style=\"text-align: right;\">\n",
       "      <th></th>\n",
       "      <th>City</th>\n",
       "      <th>Lat</th>\n",
       "      <th>Lng</th>\n",
       "      <th>Max Temp</th>\n",
       "      <th>Humidity</th>\n",
       "      <th>Cloudiness</th>\n",
       "      <th>Wind Speed</th>\n",
       "      <th>Country</th>\n",
       "      <th>Date</th>\n",
       "    </tr>\n",
       "  </thead>\n",
       "  <tbody>\n",
       "    <tr>\n",
       "      <th>0</th>\n",
       "      <td>port alfred</td>\n",
       "      <td>-33.5906</td>\n",
       "      <td>26.8910</td>\n",
       "      <td>71.01</td>\n",
       "      <td>72</td>\n",
       "      <td>35</td>\n",
       "      <td>1.99</td>\n",
       "      <td>ZA</td>\n",
       "      <td>1614332104</td>\n",
       "    </tr>\n",
       "    <tr>\n",
       "      <th>1</th>\n",
       "      <td>port augusta</td>\n",
       "      <td>-32.5000</td>\n",
       "      <td>137.7667</td>\n",
       "      <td>75.00</td>\n",
       "      <td>73</td>\n",
       "      <td>0</td>\n",
       "      <td>17.27</td>\n",
       "      <td>AU</td>\n",
       "      <td>1614332105</td>\n",
       "    </tr>\n",
       "    <tr>\n",
       "      <th>2</th>\n",
       "      <td>tevriz</td>\n",
       "      <td>57.5090</td>\n",
       "      <td>72.4042</td>\n",
       "      <td>-9.38</td>\n",
       "      <td>91</td>\n",
       "      <td>100</td>\n",
       "      <td>4.09</td>\n",
       "      <td>RU</td>\n",
       "      <td>1614332105</td>\n",
       "    </tr>\n",
       "    <tr>\n",
       "      <th>3</th>\n",
       "      <td>norman wells</td>\n",
       "      <td>65.2820</td>\n",
       "      <td>-126.8329</td>\n",
       "      <td>-32.80</td>\n",
       "      <td>75</td>\n",
       "      <td>20</td>\n",
       "      <td>5.75</td>\n",
       "      <td>CA</td>\n",
       "      <td>1614332106</td>\n",
       "    </tr>\n",
       "    <tr>\n",
       "      <th>4</th>\n",
       "      <td>chuy</td>\n",
       "      <td>-33.6971</td>\n",
       "      <td>-53.4616</td>\n",
       "      <td>62.65</td>\n",
       "      <td>91</td>\n",
       "      <td>0</td>\n",
       "      <td>3.24</td>\n",
       "      <td>UY</td>\n",
       "      <td>1614332106</td>\n",
       "    </tr>\n",
       "  </tbody>\n",
       "</table>\n",
       "</div>"
      ],
      "text/plain": [
       "           City      Lat       Lng  Max Temp  Humidity  Cloudiness  \\\n",
       "0   port alfred -33.5906   26.8910     71.01        72          35   \n",
       "1  port augusta -32.5000  137.7667     75.00        73           0   \n",
       "2        tevriz  57.5090   72.4042     -9.38        91         100   \n",
       "3  norman wells  65.2820 -126.8329    -32.80        75          20   \n",
       "4          chuy -33.6971  -53.4616     62.65        91           0   \n",
       "\n",
       "   Wind Speed Country        Date  \n",
       "0        1.99      ZA  1614332104  \n",
       "1       17.27      AU  1614332105  \n",
       "2        4.09      RU  1614332105  \n",
       "3        5.75      CA  1614332106  \n",
       "4        3.24      UY  1614332106  "
      ]
     },
     "execution_count": 8,
     "metadata": {},
     "output_type": "execute_result"
    }
   ],
   "source": [
    "city_df = pd.DataFrame(city_data)\n",
    "city_df.head()"
   ]
  },
  {
   "cell_type": "code",
   "execution_count": 9,
   "metadata": {
    "scrolled": true
   },
   "outputs": [],
   "source": [
    "city_df.count()\n",
    "city_df.to_csv('Output/citys.csv')"
   ]
  },
  {
   "cell_type": "code",
   "execution_count": 10,
   "metadata": {},
   "outputs": [],
   "source": [
    "lats = city_df[\"Lat\"]\n",
    "max_temps = city_df[\"Max Temp\"]\n",
    "humidity = city_df[\"Humidity\"]\n",
    "cloudiness = city_df[\"Cloudiness\"]\n",
    "wind_speed = city_df[\"Wind Speed\"]"
   ]
  },
  {
   "cell_type": "code",
   "execution_count": 11,
   "metadata": {},
   "outputs": [
    {
     "name": "stdout",
     "output_type": "stream",
     "text": [
      "The max humidity in any city is: 100\n"
     ]
    }
   ],
   "source": [
    "print(f'The max humidity in any city is: {humidity.max()}')"
   ]
  },
  {
   "cell_type": "markdown",
   "metadata": {},
   "source": [
    "# Scatter Plots"
   ]
  },
  {
   "cell_type": "markdown",
   "metadata": {},
   "source": [
    "#### Temperature (F) vs. Latitude"
   ]
  },
  {
   "cell_type": "code",
   "execution_count": 12,
   "metadata": {
    "scrolled": true
   },
   "outputs": [
    {
     "data": {
      "image/png": "[encoded data removed]",
      "text/plain": [
       "<Figure size 432x288 with 1 Axes>"
      ]
     },
     "metadata": {
      "needs_background": "light"
     },
     "output_type": "display_data"
    }
   ],
   "source": [
    "plt.scatter(lats, max_temps)\n",
    "plt.title('Temperature vs. City Latitude')\n",
    "plt.xlabel('Latitude')\n",
    "plt.ylabel('Temperature °F')\n",
    "plt.grid(True)\n",
    "plt.savefig('Output/lat_temp.png', bbox_inches='tight')"
   ]
  },
  {
   "cell_type": "markdown",
   "metadata": {},
   "source": [
    "In this scatter plot we can see that as the latitude moves away from zero, the temperature begins to drop also."
   ]
  },
  {
   "cell_type": "markdown",
   "metadata": {},
   "source": [
    "#### Humidity (%) vs. Latitude"
   ]
  },
  {
   "cell_type": "code",
   "execution_count": 13,
   "metadata": {},
   "outputs": [
    {
     "data": {
      "image/png": "[encoded data removed]",
      "text/plain": [
       "<Figure size 432x288 with 1 Axes>"
      ]
     },
     "metadata": {
      "needs_background": "light"
     },
     "output_type": "display_data"
    }
   ],
   "source": [
    "plt.scatter(lats, humidity)\n",
    "plt.title('City Humidity vs Latitude')\n",
    "plt.xlabel('Latitude')\n",
    "plt.ylabel('Humidity')\n",
    "plt.grid(True)\n",
    "plt.savefig('Output/hum_lat.png',bbox_inches='tight')"
   ]
  },
  {
   "cell_type": "markdown",
   "metadata": {},
   "source": [
    "We see no real relationship between latitude and humidity"
   ]
  },
  {
   "cell_type": "markdown",
   "metadata": {},
   "source": [
    "#### Cloudiness (%) vs. Latitude"
   ]
  },
  {
   "cell_type": "code",
   "execution_count": 14,
   "metadata": {},
   "outputs": [
    {
     "data": {
      "image/png": "[encoded data removed]",
      "text/plain": [
       "<Figure size 432x288 with 1 Axes>"
      ]
     },
     "metadata": {
      "needs_background": "light"
     },
     "output_type": "display_data"
    }
   ],
   "source": [
    "plt.scatter(lats, cloudiness)\n",
    "plt.title('Cloudiness vs. Latitude')\n",
    "plt.xlabel('Latitude')\n",
    "plt.ylabel('Cloudiness')\n",
    "plt.grid(True)\n",
    "plt.savefig('Output/cloud_lat.png',bbox_inches='tight')"
   ]
  },
  {
   "cell_type": "markdown",
   "metadata": {},
   "source": [
    "As with humidity and latitude, we see no real relationship between cloudiness and latitude either"
   ]
  },
  {
   "cell_type": "markdown",
   "metadata": {},
   "source": [
    "#### Wind Speed (mph) vs. Latitude"
   ]
  },
  {
   "cell_type": "code",
   "execution_count": 15,
   "metadata": {},
   "outputs": [
    {
     "data": {
      "image/png": "[encoded data removed]",
      "text/plain": [
       "<Figure size 432x288 with 1 Axes>"
      ]
     },
     "metadata": {
      "needs_background": "light"
     },
     "output_type": "display_data"
    }
   ],
   "source": [
    "plt.scatter(lats, wind_speed)\n",
    "plt.title('Wind Speed (mph) vs. Latitude')\n",
    "plt.xlabel('Latitude')\n",
    "plt.ylabel('Wind Speed')\n",
    "plt.grid(True)\n",
    "plt.savefig('Output/wind_lats.png',bbox_inches='tight')"
   ]
  },
  {
   "cell_type": "markdown",
   "metadata": {},
   "source": [
    "The data shows wind speed did not change depending on latitude"
   ]
  },
  {
   "cell_type": "markdown",
   "metadata": {},
   "source": [
    "# Linear Regression"
   ]
  },
  {
   "cell_type": "code",
   "execution_count": 16,
   "metadata": {},
   "outputs": [],
   "source": [
    "def linear_regression(x_values, y_values, title, text_coordinates):    \n",
    "    \n",
    "    (slope, intercept, rvalue, pvalue, stderr) = linregress(x_values, y_values)\n",
    "    regress_values = x_values * slope + intercept\n",
    "    line_eq = \"y = \" + str(round(slope,2)) + \"x + \" + str(round(intercept,2))\n",
    "\n",
    "    \n",
    "    plt.scatter(x_values,y_values)\n",
    "    plt.plot(x_values,regress_values,\"r-\")\n",
    "    plt.annotate(line_eq,text_coordinates,fontsize=15,color=\"red\")\n",
    "    plt.xlabel('Latitude')\n",
    "    plt.ylabel(title)\n",
    "    print(f\"R-value is: {rvalue**2}\")\n",
    "    plt.show()"
   ]
  },
  {
   "cell_type": "code",
   "execution_count": 17,
   "metadata": {},
   "outputs": [],
   "source": [
    "north_hemi_df = city_df.loc[(city_df[\"Lat\"] >= 0)]\n",
    "south_hemi_df = city_df.loc[(city_df[\"Lat\"] < 0)]"
   ]
  },
  {
   "cell_type": "markdown",
   "metadata": {},
   "source": [
    "#### Max Temp vs. Latitude Linear Regression"
   ]
  },
  {
   "cell_type": "code",
   "execution_count": 18,
   "metadata": {},
   "outputs": [
    {
     "name": "stdout",
     "output_type": "stream",
     "text": [
      "R-value is: 0.7317207454907811\n"
     ]
    },
    {
     "data": {
      "image/png": "[encoded data removed]",
      "text/plain": [
       "<Figure size 432x288 with 1 Axes>"
      ]
     },
     "metadata": {
      "needs_background": "light"
     },
     "output_type": "display_data"
    }
   ],
   "source": [
    "x_values = north_hemi_df[\"Lat\"]\n",
    "y_values = north_hemi_df[\"Max Temp\"]\n",
    "linear_regression(x_values, y_values, 'Max Temp',(6,30))"
   ]
  },
  {
   "cell_type": "markdown",
   "metadata": {},
   "source": [
    "`There is a strong negative correlation. The graph indicates, as latitude increases, temperature decreases`"
   ]
  },
  {
   "cell_type": "code",
   "execution_count": 19,
   "metadata": {
    "scrolled": true
   },
   "outputs": [
    {
     "name": "stdout",
     "output_type": "stream",
     "text": [
      "R-value is: 0.39118558333157466\n"
     ]
    },
    {
     "data": {
      "image/png": "[encoded data removed]",
      "text/plain": [
       "<Figure size 432x288 with 1 Axes>"
      ]
     },
     "metadata": {
      "needs_background": "light"
     },
     "output_type": "display_data"
    }
   ],
   "source": [
    "x_values = south_hemi_df[\"Lat\"]\n",
    "y_values = south_hemi_df[\"Max Temp\"]\n",
    "linear_regression(x_values, y_values, 'Max Temp',(6,30))"
   ]
  },
  {
   "cell_type": "markdown",
   "metadata": {},
   "source": [
    "`There is a positive corellation: as you get closes to the equator the temperature increases`"
   ]
  },
  {
   "cell_type": "markdown",
   "metadata": {},
   "source": [
    "#### Humidity (%) vs. Latitude Linear Regression"
   ]
  },
  {
   "cell_type": "code",
   "execution_count": 20,
   "metadata": {
    "scrolled": true
   },
   "outputs": [
    {
     "name": "stdout",
     "output_type": "stream",
     "text": [
      "R-value is: 0.1525791315681655\n"
     ]
    },
    {
     "data": {
      "image/png": "[encoded data removed]",
      "text/plain": [
       "<Figure size 432x288 with 1 Axes>"
      ]
     },
     "metadata": {
      "needs_background": "light"
     },
     "output_type": "display_data"
    }
   ],
   "source": [
    "x_values = north_hemi_df[\"Lat\"]\n",
    "y_values = north_hemi_df[\"Humidity\"]\n",
    "linear_regression(x_values, y_values, 'Max Temp',(6,30))"
   ]
  },
  {
   "cell_type": "markdown",
   "metadata": {},
   "source": [
    "`There is no strong correlation between humidity and latitude`"
   ]
  },
  {
   "cell_type": "code",
   "execution_count": 21,
   "metadata": {
    "scrolled": true
   },
   "outputs": [
    {
     "name": "stdout",
     "output_type": "stream",
     "text": [
      "R-value is: 0.01944928585415119\n"
     ]
    },
    {
     "data": {
      "image/png": "[encoded data removed]",
      "text/plain": [
       "<Figure size 432x288 with 1 Axes>"
      ]
     },
     "metadata": {
      "needs_background": "light"
     },
     "output_type": "display_data"
    }
   ],
   "source": [
    "x_values = south_hemi_df[\"Lat\"]\n",
    "y_values = south_hemi_df[\"Humidity\"]\n",
    "linear_regression(x_values, y_values, 'Max Temp',(6,30))"
   ]
  },
  {
   "cell_type": "markdown",
   "metadata": {},
   "source": [
    "`There is no strong correlation between humidity and latitude`"
   ]
  },
  {
   "cell_type": "markdown",
   "metadata": {},
   "source": [
    "#### Cloudiness (%) vs. Latitude Linear Regression"
   ]
  },
  {
   "cell_type": "code",
   "execution_count": 22,
   "metadata": {
    "scrolled": true
   },
   "outputs": [
    {
     "name": "stdout",
     "output_type": "stream",
     "text": [
      "R-value is: 0.060527622970177865\n"
     ]
    },
    {
     "data": {
      "image/png": "[encoded data removed]",
      "text/plain": [
       "<Figure size 432x288 with 1 Axes>"
      ]
     },
     "metadata": {
      "needs_background": "light"
     },
     "output_type": "display_data"
    }
   ],
   "source": [
    "x_values = north_hemi_df[\"Lat\"]\n",
    "y_values = north_hemi_df[\"Cloudiness\"]\n",
    "linear_regression(x_values, y_values, 'Max Temp',(6,30))"
   ]
  },
  {
   "cell_type": "code",
   "execution_count": 23,
   "metadata": {
    "scrolled": true
   },
   "outputs": [
    {
     "name": "stdout",
     "output_type": "stream",
     "text": [
      "R-value is: 0.07456359589515167\n"
     ]
    },
    {
     "data": {
      "image/png": "[encoded data removed]",
      "text/plain": [
       "<Figure size 432x288 with 1 Axes>"
      ]
     },
     "metadata": {
      "needs_background": "light"
     },
     "output_type": "display_data"
    }
   ],
   "source": [
    "x_values = south_hemi_df[\"Lat\"]\n",
    "y_values = south_hemi_df[\"Cloudiness\"]\n",
    "linear_regression(x_values, y_values, 'Max Temp',(6,30))"
   ]
  },
  {
   "cell_type": "markdown",
   "metadata": {},
   "source": [
    "`There is no strong correlation between cloudiness and latitude`"
   ]
  },
  {
   "cell_type": "markdown",
   "metadata": {},
   "source": [
    "####  Wind Speed (mph) vs. Latitude Linear Regression"
   ]
  },
  {
   "cell_type": "code",
   "execution_count": 24,
   "metadata": {
    "scrolled": true
   },
   "outputs": [
    {
     "name": "stdout",
     "output_type": "stream",
     "text": [
      "R-value is: 0.007263811472581725\n"
     ]
    },
    {
     "data": {
      "image/png": "[encoded data removed]",
      "text/plain": [
       "<Figure size 432x288 with 1 Axes>"
      ]
     },
     "metadata": {
      "needs_background": "light"
     },
     "output_type": "display_data"
    }
   ],
   "source": [
    "x_values = north_hemi_df[\"Lat\"]\n",
    "y_values = north_hemi_df[\"Wind Speed\"]\n",
    "linear_regression(x_values, y_values, 'Max Temp',(6,30))"
   ]
  },
  {
   "cell_type": "code",
   "execution_count": 25,
   "metadata": {
    "scrolled": true
   },
   "outputs": [
    {
     "name": "stdout",
     "output_type": "stream",
     "text": [
      "R-value is: 0.0025263850593818175\n"
     ]
    },
    {
     "data": {
      "image/png": "[encoded data removed]",
      "text/plain": [
       "<Figure size 432x288 with 1 Axes>"
      ]
     },
     "metadata": {
      "needs_background": "light"
     },
     "output_type": "display_data"
    }
   ],
   "source": [
    "x_values = south_hemi_df[\"Lat\"]\n",
    "y_values = south_hemi_df[\"Wind Speed\"]\n",
    "linear_regression(x_values, y_values, 'Max Temp',(6,30))"
   ]
  },
  {
   "cell_type": "markdown",
   "metadata": {},
   "source": [
    "`There is no strong correlation between wind speed and latitude`"
   ]
  },
  {
   "cell_type": "code",
   "execution_count": null,
   "metadata": {},
   "outputs": [],
   "source": []
  }
 ],
 "metadata": {
  "kernelspec": {
   "display_name": "Python [conda env:PythonData] *",
   "language": "python",
   "name": "conda-env-PythonData-py"
  },
  "language_info": {
   "codemirror_mode": {
    "name": "ipython",
    "version": 3
   },
   "file_extension": ".py",
   "mimetype": "text/x-python",
   "name": "python",
   "nbconvert_exporter": "python",
   "pygments_lexer": "ipython3",
   "version": "3.6.12"
  }
 },
 "nbformat": 4,
 "nbformat_minor": 4
}
